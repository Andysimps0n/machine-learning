{
 "cells": [
  {
   "cell_type": "code",
   "execution_count": null,
   "id": "a1eb8500",
   "metadata": {},
   "outputs": [],
   "source": [
    "first_n, second_n = 1, 2\n",
    "print(first_n + second_n) "
   ]
  },
  {
   "cell_type": "code",
   "execution_count": null,
   "id": "f384e780",
   "metadata": {},
   "outputs": [],
   "source": []
  },
  {
   "cell_type": "code",
   "execution_count": null,
   "id": "6d7c7b17",
   "metadata": {},
   "outputs": [],
   "source": []
  }
 ],
 "metadata": {
  "kernelspec": {
   "display_name": "tf2",
   "language": "python",
   "name": "python3"
  },
  "language_info": {
   "name": "python",
   "version": "3.8.19"
  }
 },
 "nbformat": 4,
 "nbformat_minor": 5
}
