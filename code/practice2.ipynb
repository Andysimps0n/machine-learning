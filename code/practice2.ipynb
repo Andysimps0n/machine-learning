{
 "cells": [
  {
   "cell_type": "code",
   "execution_count": 35,
   "id": "c1f218be",
   "metadata": {},
   "outputs": [],
   "source": [
    "import pandas as pd\n",
    "import numpy as np  \n",
    "import matplotlib.pyplot as plt     \n",
    "from sklearn.model_selection import train_test_split, StratifiedShuffleSplit\n",
    "\n",
    "data = pd.read_csv('../data/housing.csv')\n",
    "\n",
    "# midian_income => median_house_value"
   ]
  },
  {
   "cell_type": "code",
   "execution_count": 36,
   "id": "0272f69c",
   "metadata": {},
   "outputs": [
    {
     "name": "stdout",
     "output_type": "stream",
     "text": [
      "0    0.000000\n",
      "1   -0.000048\n",
      "2    0.000097\n",
      "3   -0.000145\n",
      "4    0.000097\n",
      "Name: median_income_cat, dtype: float64\n"
     ]
    }
   ],
   "source": [
    "# Splitting the data\n",
    "\n",
    "data['median_income_cat'] = pd.qcut(data[\"median_income\"], q=5, labels=False)\n",
    "data_splitter = StratifiedShuffleSplit(n_splits=1, test_size=0.2, random_state=3)\n",
    "\n",
    "for train_index, test_index in data_splitter.split(data, data[\"median_income_cat\"]):\n",
    "    strat_train_set = data.loc[train_index]\n",
    "    strat_test_set = data.loc[test_index]\n",
    "\n",
    "print(strat_test_set[\"median_income_cat\"].value_counts() / len(strat_test_set[\"median_income_cat\"]) - data[\"median_income_cat\"].value_counts() / len(data[\"median_income_cat\"]))\n"
   ]
  },
  {
   "cell_type": "code",
   "execution_count": 37,
   "id": "790a8d06",
   "metadata": {},
   "outputs": [],
   "source": [
    "# data.plot(kind=\"scatter\", x=\"median_income\", y=\"median_house_value\", alpha=0.1)\n",
    "# data.plot(kind=\"scatter\", x=\"longitude\", y=\"latitude\", alpha=0.1)"
   ]
  },
  {
   "cell_type": "code",
   "execution_count": 38,
   "id": "9e8e1473",
   "metadata": {},
   "outputs": [],
   "source": [
    "corr_matrix = data.corr()\n",
    "# corr_matrix[\"median_house_value\"].sort_values(ascending=False)"
   ]
  },
  {
   "cell_type": "code",
   "execution_count": 39,
   "id": "248b61da",
   "metadata": {},
   "outputs": [],
   "source": [
    "# copying and detatching the target value\n",
    "\n",
    "# housing = strat_train_set.drop(\"median_house_value\", axis=1)\n",
    "# housing_labels = strat_train_set[\"median_house_value\"].copy()"
   ]
  },
  {
   "cell_type": "code",
   "execution_count": 40,
   "id": "ddf5c2c1",
   "metadata": {},
   "outputs": [],
   "source": [
    "# Filling null value in total_bedrooms using fillna\n",
    "# Dropping the whole column or deleting the whole row is possible\n",
    "\n",
    "housing_median = data[\"total_bedrooms\"].median() # This is a value\n",
    "housing_median_filled = data.copy()\n",
    "housing_median_filled.drop(\"ocean_proximity\", axis=1, inplace=True)\n",
    "housing_median_filled[\"total_bedrooms\"] = data[[\"total_bedrooms\"]].fillna(housing_median)\n",
    "housing_median_filled.drop(\"median_income_cat\", axis=1, inplace=True)"
   ]
  },
  {
   "cell_type": "code",
   "execution_count": null,
   "id": "673f224f",
   "metadata": {},
   "outputs": [],
   "source": [
    "from sklearn.impute import SimpleImputer\n",
    "\n",
    "imputer = SimpleImputer(strategy=\"median\")\n",
    "imputer.fit(housing_median_filled)\n",
    "X = imputer.transform(housing_median_filled)\n"
   ]
  },
  {
   "cell_type": "code",
   "execution_count": null,
   "id": "7cdc2f46",
   "metadata": {},
   "outputs": [],
   "source": [
    "housing_tr = pd.DataFrame(X, columns=housing_median_filled.columns, index=housing_median_filled.index)  "
   ]
  },
  {
   "cell_type": "code",
   "execution_count": 56,
   "id": "670e658b",
   "metadata": {},
   "outputs": [
    {
     "data": {
      "text/plain": [
       "array([[3.],\n",
       "       [3.],\n",
       "       [3.],\n",
       "       ...,\n",
       "       [1.],\n",
       "       [1.],\n",
       "       [1.]])"
      ]
     },
     "execution_count": 56,
     "metadata": {},
     "output_type": "execute_result"
    }
   ],
   "source": [
    "# Ordianal Encoding\n",
    "\n",
    "from sklearn.preprocessing import OrdinalEncoder\n",
    "ordinal_encoder = OrdinalEncoder()\n",
    "\n",
    "\n",
    "housing_cat = data[[\"ocean_proximity\"]]\n",
    "housing_cat_ordinal = ordinal_encoder.fit_transform(housing_cat)\n",
    "housing_cat_ordinal\n",
    "\n",
    "housing_cat_ordinal\n"
   ]
  },
  {
   "cell_type": "code",
   "execution_count": 61,
   "id": "a47c3fca",
   "metadata": {},
   "outputs": [
    {
     "data": {
      "text/plain": [
       "array([[0., 0., 0., 1., 0.],\n",
       "       [0., 0., 0., 1., 0.],\n",
       "       [0., 0., 0., 1., 0.],\n",
       "       ...,\n",
       "       [0., 1., 0., 0., 0.],\n",
       "       [0., 1., 0., 0., 0.],\n",
       "       [0., 1., 0., 0., 0.]])"
      ]
     },
     "execution_count": 61,
     "metadata": {},
     "output_type": "execute_result"
    }
   ],
   "source": [
    "# OneHot Encoding\n",
    "\n",
    "from sklearn.preprocessing import OneHotEncoder\n",
    "\n",
    "oneHotEncoder = OneHotEncoder(sparse=False)\n",
    "housing_cat_oneHot = oneHotEncoder.fit_transform(housing_cat) \n",
    "housing_cat_oneHot\n",
    "\n"
   ]
  },
  {
   "cell_type": "code",
   "execution_count": null,
   "id": "8b3bf3b7",
   "metadata": {},
   "outputs": [],
   "source": []
  },
  {
   "cell_type": "code",
   "execution_count": null,
   "id": "d87db5d4",
   "metadata": {},
   "outputs": [],
   "source": []
  }
 ],
 "metadata": {
  "kernelspec": {
   "display_name": "tf2",
   "language": "python",
   "name": "python3"
  },
  "language_info": {
   "codemirror_mode": {
    "name": "ipython",
    "version": 3
   },
   "file_extension": ".py",
   "mimetype": "text/x-python",
   "name": "python",
   "nbconvert_exporter": "python",
   "pygments_lexer": "ipython3",
   "version": "3.8.19"
  }
 },
 "nbformat": 4,
 "nbformat_minor": 5
}
